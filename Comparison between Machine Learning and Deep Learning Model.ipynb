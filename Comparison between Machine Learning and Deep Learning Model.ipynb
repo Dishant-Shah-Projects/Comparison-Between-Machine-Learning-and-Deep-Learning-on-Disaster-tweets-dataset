{
  "nbformat": 4,
  "nbformat_minor": 0,
  "metadata": {
    "colab": {
      "name": "Machine Learning and Deep Learning comparison.ipynb",
      "provenance": [],
      "toc_visible": true,
      "machine_shape": "hm"
    },
    "kernelspec": {
      "name": "python3",
      "display_name": "Python 3"
    },
    "accelerator": "GPU"
  },
  "cells": [
    {
      "cell_type": "markdown",
      "metadata": {
        "id": "ujP3-ZDJFHf4",
        "colab_type": "text"
      },
      "source": [
        "# Getting Started: Loading and Preping the Data"
      ]
    },
    {
      "cell_type": "markdown",
      "metadata": {
        "id": "ZGaEWkI6yjpq",
        "colab_type": "text"
      },
      "source": [
        "Downloading the File."
      ]
    },
    {
      "cell_type": "code",
      "metadata": {
        "id": "v8rMUlmeDv7w",
        "colab_type": "code",
        "colab": {
          "base_uri": "https://localhost:8080/",
          "height": 50
        },
        "outputId": "156c6f42-25e4-4f5d-9fbe-a497fffe74b2"
      },
      "source": [
        "!unzip '/content/drive/My Drive/kaggle/nlp-getting-started.zip' -d '/content/drive/My Drive/kaggle'"
      ],
      "execution_count": null,
      "outputs": [
        {
          "output_type": "stream",
          "text": [
            "Archive:  /content/drive/My Drive/kaggle/nlp-getting-started.zip\n",
            "replace /content/drive/My Drive/kaggle/sample_submission.csv? [y]es, [n]o, [A]ll, [N]one, [r]ename: "
          ],
          "name": "stdout"
        }
      ]
    },
    {
      "cell_type": "code",
      "metadata": {
        "id": "JQ4ptUnLDQpc",
        "colab_type": "code",
        "colab": {
          "base_uri": "https://localhost:8080/",
          "height": 101
        },
        "outputId": "e6497da8-ea22-4175-eefa-14bec6dab0d9"
      },
      "source": [
        "import nltk\n",
        "nltk.download('stopwords')\n",
        "nltk.download('punkt')\n"
      ],
      "execution_count": null,
      "outputs": [
        {
          "output_type": "stream",
          "text": [
            "[nltk_data] Downloading package stopwords to /root/nltk_data...\n",
            "[nltk_data]   Unzipping corpora/stopwords.zip.\n",
            "[nltk_data] Downloading package punkt to /root/nltk_data...\n",
            "[nltk_data]   Unzipping tokenizers/punkt.zip.\n"
          ],
          "name": "stdout"
        },
        {
          "output_type": "execute_result",
          "data": {
            "text/plain": [
              "True"
            ]
          },
          "metadata": {
            "tags": []
          },
          "execution_count": 1
        }
      ]
    },
    {
      "cell_type": "code",
      "metadata": {
        "id": "4ELitp2GEHnz",
        "colab_type": "code",
        "colab": {}
      },
      "source": [
        "import numpy as np \n",
        "import pandas as pd \n",
        "from keras.optimizers import Adam\n",
        "from keras.initializers import Constant\n",
        "from sklearn import feature_extraction, linear_model, model_selection, preprocessing\n",
        "from nltk.tokenize import word_tokenize\n",
        "from sklearn.linear_model import LogisticRegression\n",
        "from sklearn.svm import SVC\n",
        "from sklearn.feature_extraction.text import CountVectorizer,TfidfVectorizer\n",
        "from keras.models import Sequential\n",
        "from keras import layers\n",
        "from sklearn.feature_extraction.text import CountVectorizer\n",
        "from sklearn.linear_model import LogisticRegression\n",
        "import matplotlib.pyplot as plt\n",
        "from keras.layers import Conv1D,MaxPooling1D, Flatten\n",
        "from keras.layers import LSTM,Dense,SpatialDropout1D\n",
        "from keras.preprocessing.sequence import pad_sequences\n",
        "from keras.models import Sequential\n",
        "from keras import layers\n",
        "from keras.preprocessing.text import Tokenizer\n",
        "from nltk.corpus import stopwords\n",
        "from sklearn.model_selection import StratifiedKFold, KFold, GridSearchCV\n",
        "\n",
        "stop=set(stopwords.words('english'))\n",
        "plt.style.use('ggplot')\n",
        "#fnction to make the logs for history\n",
        "def plot_history(history):\n",
        "    acc = history.history['accuracy']\n",
        "    val_acc = history.history['val_accuracy']\n",
        "    loss = history.history['loss']\n",
        "    val_loss = history.history['val_loss']\n",
        "    x = range(1, len(acc) + 1)\n",
        "\n",
        "    plt.figure(figsize=(12, 5))\n",
        "    plt.subplot(1, 2, 1)\n",
        "    plt.plot(x, acc, 'b', label='Training acc')\n",
        "    plt.plot(x, val_acc, 'r', label='Validation acc')\n",
        "    plt.title('Training and validation accuracy')\n",
        "    plt.legend()\n",
        "    plt.subplot(1, 2, 2)\n",
        "    plt.plot(x, loss, 'b', label='Training loss')\n",
        "    plt.plot(x, val_loss, 'r', label='Validation loss')\n",
        "    plt.title('Training and validation loss')\n",
        "    plt.legend()\n"
      ],
      "execution_count": null,
      "outputs": []
    },
    {
      "cell_type": "code",
      "metadata": {
        "id": "AB7ukazCyLBg",
        "colab_type": "code",
        "colab": {}
      },
      "source": [
        "train_df = pd.read_csv(\"/content/drive/My Drive/kaggle/train.csv\")\n",
        "test_df = pd.read_csv(\"/content/drive/My Drive/kaggle/test.csv\")\n",
        "\n",
        "import re\n",
        "#function to clean the data\n",
        "def clean_review(text):\n",
        "    # Strip HTML tags\n",
        "    text = re.sub('[^a-zA-Z]', ' ', text)  \n",
        "    text = text.lower()  \n",
        "    text = re.sub(\"[!@#$+%*:()'-]\", ' ', text)\n",
        "    text = ''.join([i for i in text if not i.isdigit()])\n",
        "    # Strip escaped quotes\n",
        "    text = text.replace('\\\\\"', '')\n",
        " \n",
        "    # Strip quotes\n",
        "    text = text.replace('\"', '')\n",
        "    \n",
        " \n",
        "    return text    \n",
        "            \n",
        "# clean the data    \n",
        "train_df['text']=train_df['text'].apply(clean_review)\n",
        "test_df['text']=test_df['text'].apply(clean_review)\n",
        "train_df.tail()\n",
        "\n",
        "y=train_df[\"target\"].values\n",
        "from sklearn.model_selection import train_test_split\n",
        "# train test split\n",
        "x_train, x_test, y_train, y_test = train_test_split(train_df[\"text\"].values, y, test_size=0.25, random_state=1000)"
      ],
      "execution_count": null,
      "outputs": []
    },
    {
      "cell_type": "code",
      "metadata": {
        "id": "bnfMdobKchRb",
        "colab_type": "code",
        "colab": {
          "base_uri": "https://localhost:8080/",
          "height": 195
        },
        "outputId": "020d8e4b-27ec-4d6f-94e4-8774c74e112b"
      },
      "source": [
        "train_df.tail()"
      ],
      "execution_count": null,
      "outputs": [
        {
          "output_type": "execute_result",
          "data": {
            "text/html": [
              "<div>\n",
              "<style scoped>\n",
              "    .dataframe tbody tr th:only-of-type {\n",
              "        vertical-align: middle;\n",
              "    }\n",
              "\n",
              "    .dataframe tbody tr th {\n",
              "        vertical-align: top;\n",
              "    }\n",
              "\n",
              "    .dataframe thead th {\n",
              "        text-align: right;\n",
              "    }\n",
              "</style>\n",
              "<table border=\"1\" class=\"dataframe\">\n",
              "  <thead>\n",
              "    <tr style=\"text-align: right;\">\n",
              "      <th></th>\n",
              "      <th>id</th>\n",
              "      <th>keyword</th>\n",
              "      <th>location</th>\n",
              "      <th>text</th>\n",
              "      <th>target</th>\n",
              "    </tr>\n",
              "  </thead>\n",
              "  <tbody>\n",
              "    <tr>\n",
              "      <th>7608</th>\n",
              "      <td>10869</td>\n",
              "      <td>NaN</td>\n",
              "      <td>NaN</td>\n",
              "      <td>two giant cranes holding a bridge collapse int...</td>\n",
              "      <td>1</td>\n",
              "    </tr>\n",
              "    <tr>\n",
              "      <th>7609</th>\n",
              "      <td>10870</td>\n",
              "      <td>NaN</td>\n",
              "      <td>NaN</td>\n",
              "      <td>aria ahrary  thetawniest the out of control w...</td>\n",
              "      <td>1</td>\n",
              "    </tr>\n",
              "    <tr>\n",
              "      <th>7610</th>\n",
              "      <td>10871</td>\n",
              "      <td>NaN</td>\n",
              "      <td>NaN</td>\n",
              "      <td>m            utc   km s of volcano hawaii  htt...</td>\n",
              "      <td>1</td>\n",
              "    </tr>\n",
              "    <tr>\n",
              "      <th>7611</th>\n",
              "      <td>10872</td>\n",
              "      <td>NaN</td>\n",
              "      <td>NaN</td>\n",
              "      <td>police investigating after an e bike collided ...</td>\n",
              "      <td>1</td>\n",
              "    </tr>\n",
              "    <tr>\n",
              "      <th>7612</th>\n",
              "      <td>10873</td>\n",
              "      <td>NaN</td>\n",
              "      <td>NaN</td>\n",
              "      <td>the latest  more homes razed by northern calif...</td>\n",
              "      <td>1</td>\n",
              "    </tr>\n",
              "  </tbody>\n",
              "</table>\n",
              "</div>"
            ],
            "text/plain": [
              "         id keyword  ...                                               text target\n",
              "7608  10869     NaN  ...  two giant cranes holding a bridge collapse int...      1\n",
              "7609  10870     NaN  ...   aria ahrary  thetawniest the out of control w...      1\n",
              "7610  10871     NaN  ...  m            utc   km s of volcano hawaii  htt...      1\n",
              "7611  10872     NaN  ...  police investigating after an e bike collided ...      1\n",
              "7612  10873     NaN  ...  the latest  more homes razed by northern calif...      1\n",
              "\n",
              "[5 rows x 5 columns]"
            ]
          },
          "metadata": {
            "tags": []
          },
          "execution_count": 186
        }
      ]
    },
    {
      "cell_type": "code",
      "metadata": {
        "id": "E9aO5PLFdg0D",
        "colab_type": "code",
        "colab": {
          "base_uri": "https://localhost:8080/",
          "height": 34
        },
        "outputId": "24a2db07-7b6c-4c7a-9019-a1a546942c56"
      },
      "source": [
        "train_df.shape"
      ],
      "execution_count": null,
      "outputs": [
        {
          "output_type": "execute_result",
          "data": {
            "text/plain": [
              "(7613, 5)"
            ]
          },
          "metadata": {
            "tags": []
          },
          "execution_count": 187
        }
      ]
    },
    {
      "cell_type": "code",
      "metadata": {
        "id": "hM_VNQhUc_JB",
        "colab_type": "code",
        "colab": {
          "base_uri": "https://localhost:8080/",
          "height": 118
        },
        "outputId": "2ce288a0-3b1a-43ea-af0d-8162de3300c6"
      },
      "source": [
        "train_df.isna().sum()"
      ],
      "execution_count": null,
      "outputs": [
        {
          "output_type": "execute_result",
          "data": {
            "text/plain": [
              "id             0\n",
              "keyword       61\n",
              "location    2533\n",
              "text           0\n",
              "target         0\n",
              "dtype: int64"
            ]
          },
          "metadata": {
            "tags": []
          },
          "execution_count": 188
        }
      ]
    },
    {
      "cell_type": "code",
      "metadata": {
        "id": "li8UfyD0dLvy",
        "colab_type": "code",
        "colab": {
          "base_uri": "https://localhost:8080/",
          "height": 34
        },
        "outputId": "29586da7-494a-4532-a695-1cfbb6ed1fce"
      },
      "source": [
        "train_df.keyword.nunique()"
      ],
      "execution_count": null,
      "outputs": [
        {
          "output_type": "execute_result",
          "data": {
            "text/plain": [
              "221"
            ]
          },
          "metadata": {
            "tags": []
          },
          "execution_count": 189
        }
      ]
    },
    {
      "cell_type": "code",
      "metadata": {
        "id": "zQBpqH2kdTVL",
        "colab_type": "code",
        "colab": {
          "base_uri": "https://localhost:8080/",
          "height": 34
        },
        "outputId": "dc0627c2-6958-4b7f-bcda-d96bcf68b3ac"
      },
      "source": [
        "train_df.location.nunique()"
      ],
      "execution_count": null,
      "outputs": [
        {
          "output_type": "execute_result",
          "data": {
            "text/plain": [
              "3341"
            ]
          },
          "metadata": {
            "tags": []
          },
          "execution_count": 190
        }
      ]
    },
    {
      "cell_type": "code",
      "metadata": {
        "id": "zhHSB3KedYD4",
        "colab_type": "code",
        "colab": {
          "base_uri": "https://localhost:8080/",
          "height": 34
        },
        "outputId": "6cb4b7d6-e307-42e5-c1af-9f8fed673c65"
      },
      "source": [
        "train_df.text.nunique()"
      ],
      "execution_count": null,
      "outputs": [
        {
          "output_type": "execute_result",
          "data": {
            "text/plain": [
              "7485"
            ]
          },
          "metadata": {
            "tags": []
          },
          "execution_count": 191
        }
      ]
    },
    {
      "cell_type": "code",
      "metadata": {
        "id": "NJ4NVsu3aDY8",
        "colab_type": "code",
        "colab": {
          "base_uri": "https://localhost:8080/",
          "height": 299
        },
        "outputId": "465ad148-ae20-49a2-c779-ba52473cf5fa"
      },
      "source": [
        "train_df['message_len'] = train_df['text'].apply(len)\n",
        "\n",
        "plt.figure()\n",
        "\n",
        "train_df[train_df['target']==0].message_len.plot(bins=35, kind='hist', color='blue', label='not disaster', alpha=0.6)\n",
        "train_df[train_df['target']==1].message_len.plot(kind='hist', color='red', label='disaster', alpha=0.6)\n",
        "plt.legend()\n",
        "plt.xlabel(\"Tweet length\")\n",
        "plt.ylabel(\"Frequency of disaster\")\n",
        "\n"
      ],
      "execution_count": null,
      "outputs": [
        {
          "output_type": "execute_result",
          "data": {
            "text/plain": [
              "Text(0, 0.5, 'Frequency of disaster')"
            ]
          },
          "metadata": {
            "tags": []
          },
          "execution_count": 192
        },
        {
          "output_type": "display_data",
          "data": {
            "image/png": "[encoded data removed]",
            "text/plain": [
              "<Figure size 432x288 with 1 Axes>"
            ]
          },
          "metadata": {
            "tags": []
          }
        }
      ]
    },
    {
      "cell_type": "markdown",
      "metadata": {
        "id": "ZsMpcxw_qEF3",
        "colab_type": "text"
      },
      "source": [
        "# Setting up the Vectorizors"
      ]
    },
    {
      "cell_type": "code",
      "metadata": {
        "id": "S-UMQaVwqJjB",
        "colab_type": "code",
        "colab": {}
      },
      "source": [
        "# using the count_vectorizer to fit the data\n",
        "count_vectorizer = feature_extraction.text.CountVectorizer(stop_words='english',max_df=0.5,min_df=2)\n",
        "\n",
        "x_train1 = count_vectorizer.fit_transform(x_train)\n",
        "x_test1 = count_vectorizer.transform(x_test)\n",
        "\n",
        "#using the tFIDF vectorizer to fit the data\n",
        "tfidf = TfidfVectorizer(stop_words = 'english')\n",
        "tfidf.fit(train_df['text'].values)\n",
        "X_trainT = tfidf.transform(x_train)\n",
        "X_testT = tfidf.transform(x_test)\n"
      ],
      "execution_count": null,
      "outputs": []
    },
    {
      "cell_type": "markdown",
      "metadata": {
        "id": "OoiaTMsfyoZN",
        "colab_type": "text"
      },
      "source": [
        "#  Ridge Regression with count vectorizors"
      ]
    },
    {
      "cell_type": "code",
      "metadata": {
        "id": "xdWqoe6aEPc9",
        "colab_type": "code",
        "colab": {
          "base_uri": "https://localhost:8080/",
          "height": 34
        },
        "outputId": "5401979d-c429-4df4-bcaf-d02dbc493a75"
      },
      "source": [
        "# Fiting the model and scoring the model on the test data. \n",
        "clf = linear_model.RidgeClassifier()\n",
        "clf.fit(x_train1, y_train)\n",
        "score = clf.score(x_test1, y_test)\n",
        "print(\"Accuracy for ridge regression with count vectorizors:\", score)\n",
        "RRscore=score"
      ],
      "execution_count": null,
      "outputs": [
        {
          "output_type": "stream",
          "text": [
            "Accuracy for ridge regression with count vectorizors: 0.7741596638655462\n"
          ],
          "name": "stdout"
        }
      ]
    },
    {
      "cell_type": "markdown",
      "metadata": {
        "id": "4mFjCEZYpU21",
        "colab_type": "text"
      },
      "source": [
        "# Ridge Regression with tfidf vectorizors"
      ]
    },
    {
      "cell_type": "code",
      "metadata": {
        "id": "GRshRMMqpNqA",
        "colab_type": "code",
        "colab": {
          "base_uri": "https://localhost:8080/",
          "height": 34
        },
        "outputId": "66a985ab-fc33-42e4-d30a-9702e80c4d37"
      },
      "source": [
        "clf2 = linear_model.RidgeClassifier()\n",
        "clf2.fit(X_trainT, y_train)\n",
        "score = clf2.score(X_testT, y_test)\n",
        "print(\"Accuracy for ridge regression with tfidf:\", score)\n",
        "RRscore2=score"
      ],
      "execution_count": null,
      "outputs": [
        {
          "output_type": "stream",
          "text": [
            "Accuracy for ridge regression: 0.8077731092436975\n"
          ],
          "name": "stdout"
        }
      ]
    },
    {
      "cell_type": "markdown",
      "metadata": {
        "id": "Pqs_wrlxG_W8",
        "colab_type": "text"
      },
      "source": [
        "The ridge regression was only a model to be used for practice. It was not used for submission on kaggle"
      ]
    },
    {
      "cell_type": "markdown",
      "metadata": {
        "id": "ULLj0QhsKphp",
        "colab_type": "text"
      },
      "source": [
        "#  logistic regression with count vectorizor"
      ]
    },
    {
      "cell_type": "code",
      "metadata": {
        "id": "kUo0f1cnNa13",
        "colab_type": "code",
        "colab": {
          "base_uri": "https://localhost:8080/",
          "height": 34
        },
        "outputId": "e06f341f-3c21-42c0-8bec-ae11c5841125"
      },
      "source": [
        "#performing the fitting and scoring for logistic regression\n",
        "log = LogisticRegression(max_iter=100000,solver='liblinear')\n",
        "log.fit(X_train1, y_train)\n",
        "score = log.score(X_test1, y_test)\n",
        "print(\"Accuracy for logistic regression with count vectorizor:\", score)\n",
        "LRscore=score"
      ],
      "execution_count": null,
      "outputs": [
        {
          "output_type": "stream",
          "text": [
            "Accuracy for basic logistic regression: 0.805672268907563\n"
          ],
          "name": "stdout"
        }
      ]
    },
    {
      "cell_type": "markdown",
      "metadata": {
        "id": "PooTnRzbVu6r",
        "colab_type": "text"
      },
      "source": [
        "# Logistic Regression with tfidf vectorizor"
      ]
    },
    {
      "cell_type": "code",
      "metadata": {
        "id": "oRilVPqiV8jt",
        "colab_type": "code",
        "colab": {
          "base_uri": "https://localhost:8080/",
          "height": 34
        },
        "outputId": "1246fe4c-0da4-4a83-bf57-6a4ff4730e2d"
      },
      "source": [
        "\n",
        "#performing the fitting and scoring for logistic regression\n",
        "log2 = LogisticRegression(max_iter=100000,solver='liblinear')\n",
        "log2.fit(X_trainT, y_train)\n",
        "score = log2.score(X_testT, y_test)\n",
        "print(\"Accuracy for logistic regression with tfidf vectorizors:\", score)\n",
        "LRscore2=score"
      ],
      "execution_count": null,
      "outputs": [
        {
          "output_type": "stream",
          "text": [
            "Accuracy for logistic regression with tfidf vectorizors: 0.8040966386554622\n"
          ],
          "name": "stdout"
        }
      ]
    },
    {
      "cell_type": "code",
      "metadata": {
        "id": "GumXeQpQ8JmM",
        "colab_type": "code",
        "colab": {}
      },
      "source": [
        "test_vectors=vec.transform(test_df[\"text\"].values)\n",
        "sample_submission = pd.read_csv(\"/content/drive/My Drive/kaggle/sample_submission.csv\")\n",
        "sample_submission[\"target\"] = log.predict(test_vectors)\n",
        "sample_submission.head()\n",
        "sample_submission.to_csv(\"submission.csv\", index=False)"
      ],
      "execution_count": null,
      "outputs": []
    },
    {
      "cell_type": "markdown",
      "metadata": {
        "id": "0rvfU3HW954_",
        "colab_type": "text"
      },
      "source": [
        "For machine learning, log regression with count vectorizors was selected to be  a model for submission and was submitted to kaggle. a score of 0.79282 was obtained for the this model.\n",
        "\n"
      ]
    },
    {
      "cell_type": "markdown",
      "metadata": {
        "id": "JSHKeZVNB28R",
        "colab_type": "text"
      },
      "source": [
        " # Linear SVM with count vectorizor"
      ]
    },
    {
      "cell_type": "code",
      "metadata": {
        "id": "KV1a10arB16T",
        "colab_type": "code",
        "colab": {
          "base_uri": "https://localhost:8080/",
          "height": 34
        },
        "outputId": "a0d9ce6d-cce3-4140-9b89-140207f1256e"
      },
      "source": [
        "LSVM=SVC()\n",
        "LSVM.fit(X_train1, y_train)\n",
        "score = LSVM.score(X_test1, y_test)\n",
        "print(\"Accuracy for Linear SVMs with count vectorizor:\", score)\n",
        "LSVMscore=score"
      ],
      "execution_count": null,
      "outputs": [
        {
          "output_type": "stream",
          "text": [
            "Accuracy for Linear SVMs: 0.8125\n"
          ],
          "name": "stdout"
        }
      ]
    },
    {
      "cell_type": "code",
      "metadata": {
        "id": "OVEWxKjEYttu",
        "colab_type": "code",
        "colab": {
          "base_uri": "https://localhost:8080/",
          "height": 34
        },
        "outputId": "5f6e1058-8c81-4428-d074-365441def3e4"
      },
      "source": [
        "parameters = { \n",
        "    'gamma': [0.7, 1, 'auto', 'scale']\n",
        "}\n",
        "model2 = GridSearchCV(SVC(kernel='rbf'), parameters, cv=4, n_jobs=-1).fit(X_trainT, y_train)\n",
        "score = model2.score(X_testT, y_test)\n",
        "print(\"Accuracy for Linear SVMs with tfidf vectorizor\", score)\n",
        "LSVMscore=score"
      ],
      "execution_count": null,
      "outputs": [
        {
          "output_type": "stream",
          "text": [
            "Accuracy for Linear SVMs with tfidf vectorizor 0.8061974789915967\n"
          ],
          "name": "stdout"
        }
      ]
    },
    {
      "cell_type": "code",
      "metadata": {
        "id": "1scysmdaEwnn",
        "colab_type": "code",
        "colab": {}
      },
      "source": [
        "test_vectors=vec.transform(test_df[\"text\"].values)\n",
        "sample_submission = pd.read_csv(\"/content/drive/My Drive/kaggle/sample_submission.csv\")\n",
        "sample_submission[\"target\"] = LSVM.predict(test_vectors)\n",
        "sample_submission.head()\n",
        "sample_submission.to_csv(\"submission.csv\", index=False)"
      ],
      "execution_count": null,
      "outputs": []
    },
    {
      "cell_type": "markdown",
      "metadata": {
        "id": "UN5g0KQIFXx5",
        "colab_type": "text"
      },
      "source": [
        "For machine learning, Linear support vector machines was selected to be model for submission and was submitted to kaggle. a score of 0.79650 was obtained for the this model as well"
      ]
    },
    {
      "cell_type": "markdown",
      "metadata": {
        "id": "33TaZG4695wF",
        "colab_type": "text"
      },
      "source": [
        "Linear SVM had higher accuracy and a higher Score on the test data."
      ]
    },
    {
      "cell_type": "markdown",
      "metadata": {
        "id": "XGC7pySqYRMA",
        "colab_type": "text"
      },
      "source": [
        "# Linear SVM with tfidf vectorizor\n",
        "\n"
      ]
    },
    {
      "cell_type": "code",
      "metadata": {
        "id": "uCuYMxfhYPw9",
        "colab_type": "code",
        "colab": {
          "base_uri": "https://localhost:8080/",
          "height": 34
        },
        "outputId": "7dcc3c4d-f906-49b5-9242-208e6d5e1a13"
      },
      "source": [
        "LSVM2=SVC()\n",
        "LSVM2.fit(X_trainT, y_train)\n",
        "score = LSVM2.score(X_testT, y_test)\n",
        "print(\"Accuracy for Linear SVMs with t:\", score)\n",
        "LSVMscore2=score"
      ],
      "execution_count": null,
      "outputs": [
        {
          "output_type": "stream",
          "text": [
            "Accuracy for Linear SVMs: 0.803046218487395\n"
          ],
          "name": "stdout"
        }
      ]
    },
    {
      "cell_type": "markdown",
      "metadata": {
        "id": "MpzpTodAQFHn",
        "colab_type": "text"
      },
      "source": [
        "# Deep Learning: Plain Dense Model"
      ]
    },
    {
      "cell_type": "code",
      "metadata": {
        "id": "IY5PWQgsQLTu",
        "colab_type": "code",
        "colab": {
          "base_uri": "https://localhost:8080/",
          "height": 218
        },
        "outputId": "5f69ab00-22c6-462c-cb0f-a9c643c7dd53"
      },
      "source": [
        "\n",
        "input_dim = X_train1.shape[1]\n",
        "model = Sequential()\n",
        "model.add(layers.Dense(10, input_dim=input_dim, activation='relu'))\n",
        "model.add(layers.Dense(1, activation='sigmoid'))  \n",
        "model.compile(loss='binary_crossentropy', optimizer='adam', metrics=['accuracy'])\n",
        "model.summary()"
      ],
      "execution_count": null,
      "outputs": [
        {
          "output_type": "stream",
          "text": [
            "Model: \"sequential\"\n",
            "_________________________________________________________________\n",
            "Layer (type)                 Output Shape              Param #   \n",
            "=================================================================\n",
            "dense (Dense)                (None, 10)                221020    \n",
            "_________________________________________________________________\n",
            "dense_1 (Dense)              (None, 1)                 11        \n",
            "=================================================================\n",
            "Total params: 221,031\n",
            "Trainable params: 221,031\n",
            "Non-trainable params: 0\n",
            "_________________________________________________________________\n"
          ],
          "name": "stdout"
        }
      ]
    },
    {
      "cell_type": "code",
      "metadata": {
        "id": "BCjFPCXqQ9W9",
        "colab_type": "code",
        "colab": {
          "base_uri": "https://localhost:8080/",
          "height": 421
        },
        "outputId": "050a2e21-444d-4091-b924-11ae26571503"
      },
      "source": [
        "history = model.fit(X_train1, y_train, epochs=4, verbose=False, validation_data=(X_test1, y_test),batch_size=10)\n",
        "print('Training for 4 epoch')\n",
        "loss, accuracy = model.evaluate(X_train1, y_train, verbose=False)\n",
        "print(\"Training Accuracy: {:.4f}\".format(accuracy))\n",
        "print(\"Training loss: {:.4f}\".format(loss))\n",
        "T1loss=loss\n",
        "T1acc=accuracy\n",
        "loss, accuracy = model.evaluate(X_test1, y_test, verbose=False)\n",
        "print(\"Testing Accuracy:  {:.4f}\".format(accuracy))\n",
        "print(\"Testing loss: {:.4f}\".format(loss))\n",
        "plot_history(history)\n",
        "V1loss=loss\n",
        "V1acc=accuracy"
      ],
      "execution_count": null,
      "outputs": [
        {
          "output_type": "stream",
          "text": [
            "Training for 4 epoch\n",
            "Training Accuracy: 0.9800\n",
            "Training loss: 0.0682\n",
            "Testing Accuracy:  0.7978\n",
            "Testing loss: 0.5021\n"
          ],
          "name": "stdout"
        },
        {
          "output_type": "display_data",
          "data": {
            "image/png": "[encoded data removed]",
            "text/plain": [
              "<Figure size 864x360 with 2 Axes>"
            ]
          },
          "metadata": {
            "tags": []
          }
        }
      ]
    },
    {
      "cell_type": "markdown",
      "metadata": {
        "id": "pz1G76eqrkc_",
        "colab_type": "text"
      },
      "source": [
        "# Setting up word embeddings"
      ]
    },
    {
      "cell_type": "code",
      "metadata": {
        "id": "EfzFmmceUcWj",
        "colab_type": "code",
        "colab": {}
      },
      "source": [
        "\n",
        "tokenizer = Tokenizer(num_words=5000)\n",
        "tokenizer.fit_on_texts(train_df[\"text\"].values)\n",
        "X_train2 = tokenizer.texts_to_sequences(x_train)\n",
        "X_test2 = tokenizer.texts_to_sequences(x_test)\n",
        "vocab_size = len(tokenizer.word_index) + 1\n",
        "maxlen = 100\n",
        "X_train3 = pad_sequences(X_train2, padding='post', maxlen=maxlen)\n",
        "X_test3 = pad_sequences(X_test2, padding='post', maxlen=maxlen)\n",
        "\n"
      ],
      "execution_count": null,
      "outputs": []
    },
    {
      "cell_type": "markdown",
      "metadata": {
        "id": "c44kwbeh97hV",
        "colab_type": "text"
      },
      "source": [
        "# Keras Model with Word Embedding"
      ]
    },
    {
      "cell_type": "code",
      "metadata": {
        "id": "wn4eWdb0Vjx3",
        "colab_type": "code",
        "colab": {
          "base_uri": "https://localhost:8080/",
          "height": 319
        },
        "outputId": "6486164d-8047-4110-99dd-46f867324faa"
      },
      "source": [
        "\n",
        "embedding_dim = 50\n",
        "\n",
        "model = Sequential()\n",
        "model.add(layers.Embedding(input_dim=vocab_size, \n",
        "                           output_dim=embedding_dim, \n",
        "                           input_length=maxlen))\n",
        "model.add(layers.GlobalAveragePooling1D())\n",
        "#model.add(layers.GlobalMaxPool1D())\n",
        "model.add(layers.Flatten())\n",
        "model.add(layers.Dense(10, activation='relu'))\n",
        "model.add(layers.Dense(1, activation='sigmoid'))\n",
        "model.compile(optimizer='adam',\n",
        "              loss='binary_crossentropy',\n",
        "              metrics=['accuracy'])\n",
        "model.summary()"
      ],
      "execution_count": null,
      "outputs": [
        {
          "output_type": "stream",
          "text": [
            "Model: \"sequential_1\"\n",
            "_________________________________________________________________\n",
            "Layer (type)                 Output Shape              Param #   \n",
            "=================================================================\n",
            "embedding (Embedding)        (None, 100, 50)           1106400   \n",
            "_________________________________________________________________\n",
            "global_average_pooling1d (Gl (None, 50)                0         \n",
            "_________________________________________________________________\n",
            "flatten (Flatten)            (None, 50)                0         \n",
            "_________________________________________________________________\n",
            "dense_2 (Dense)              (None, 10)                510       \n",
            "_________________________________________________________________\n",
            "dense_3 (Dense)              (None, 1)                 11        \n",
            "=================================================================\n",
            "Total params: 1,106,921\n",
            "Trainable params: 1,106,921\n",
            "Non-trainable params: 0\n",
            "_________________________________________________________________\n"
          ],
          "name": "stdout"
        }
      ]
    },
    {
      "cell_type": "code",
      "metadata": {
        "id": "azgE7NpnV6NP",
        "colab_type": "code",
        "colab": {
          "base_uri": "https://localhost:8080/",
          "height": 404
        },
        "outputId": "10cc2499-dd30-4e0c-91a8-6f6926bc8194"
      },
      "source": [
        "history = model.fit(X_train3, y_train,\n",
        "                    epochs=3,\n",
        "                    verbose=False,\n",
        "                    validation_data=(X_test3, y_test),\n",
        "                    batch_size=10)\n",
        "loss, accuracy = model.evaluate(X_train3, y_train, verbose=False)\n",
        "print(\"Training Accuracy: \",(accuracy))\n",
        "print(\"Training loss: \",(loss))\n",
        "T2loss=loss\n",
        "T2acc=accuracy\n",
        "loss, accuracy = model.evaluate(X_test3, y_test, verbose=False)\n",
        "print(\"Testing Accuracy:  \",(accuracy))\n",
        "print(\"Testing loss: \",(loss))\n",
        "plot_history(history)\n",
        "V2loss=loss\n",
        "V2acc=accuracy"
      ],
      "execution_count": null,
      "outputs": [
        {
          "output_type": "stream",
          "text": [
            "Training Accuracy:  0.8476090431213379\n",
            "Training loss:  0.37410464882850647\n",
            "Testing Accuracy:   0.818802535533905\n",
            "Testing loss:  0.44107723236083984\n"
          ],
          "name": "stdout"
        },
        {
          "output_type": "display_data",
          "data": {
            "image/png": "[encoded data removed]",
            "text/plain": [
              "<Figure size 864x360 with 2 Axes>"
            ]
          },
          "metadata": {
            "tags": []
          }
        }
      ]
    },
    {
      "cell_type": "markdown",
      "metadata": {
        "id": "jsPn4Q-addYS",
        "colab_type": "text"
      },
      "source": [
        "# Deep Learning: ConvNet"
      ]
    },
    {
      "cell_type": "code",
      "metadata": {
        "id": "TAjV-igUdhJv",
        "colab_type": "code",
        "colab": {
          "base_uri": "https://localhost:8080/",
          "height": 319
        },
        "outputId": "daa82420-5ba4-4bd1-881a-58d7a63ef080"
      },
      "source": [
        "embedding_dim = 100\n",
        "\n",
        "model = Sequential()\n",
        "model.add(layers.Embedding(vocab_size, embedding_dim, input_length=maxlen))\n",
        "model.add(layers.Conv1D(128, 5, activation='relu'))\n",
        "model.add(layers.GlobalMaxPooling1D())\n",
        "model.add(layers.Dense(10, activation='relu'))\n",
        "model.add(layers.Dense(1, activation='sigmoid'))\n",
        "model.compile(optimizer='adam',\n",
        "              loss='binary_crossentropy',\n",
        "              metrics=['accuracy'])\n",
        "model.summary()"
      ],
      "execution_count": null,
      "outputs": [
        {
          "output_type": "stream",
          "text": [
            "Model: \"sequential_2\"\n",
            "_________________________________________________________________\n",
            "Layer (type)                 Output Shape              Param #   \n",
            "=================================================================\n",
            "embedding_1 (Embedding)      (None, 100, 100)          2212800   \n",
            "_________________________________________________________________\n",
            "conv1d (Conv1D)              (None, 96, 128)           64128     \n",
            "_________________________________________________________________\n",
            "global_max_pooling1d (Global (None, 128)               0         \n",
            "_________________________________________________________________\n",
            "dense_4 (Dense)              (None, 10)                1290      \n",
            "_________________________________________________________________\n",
            "dense_5 (Dense)              (None, 1)                 11        \n",
            "=================================================================\n",
            "Total params: 2,278,229\n",
            "Trainable params: 2,278,229\n",
            "Non-trainable params: 0\n",
            "_________________________________________________________________\n"
          ],
          "name": "stdout"
        }
      ]
    },
    {
      "cell_type": "code",
      "metadata": {
        "id": "edTMhVpgZQEB",
        "colab_type": "code",
        "colab": {
          "base_uri": "https://localhost:8080/",
          "height": 404
        },
        "outputId": "41dc181b-ea67-4ede-9fdf-74aca68f3f0e"
      },
      "source": [
        "history = model.fit(X_train3, y_train, epochs=10,verbose=False,validation_data=(X_test3, y_test),batch_size=10)\n",
        "loss, accuracy = model.evaluate(X_train3, y_train, verbose=False)\n",
        "print(\"Training Accuracy: \",(accuracy))\n",
        "print(\"Training loss: \",(loss))\n",
        "T3loss=loss\n",
        "T3acc=accuracy\n",
        "loss, accuracy = model.evaluate(X_test3, y_test, verbose=False)\n",
        "print(\"Testing Accuracy: \",(accuracy))\n",
        "print(\"Testing loss: \",(loss))\n",
        "plot_history(history)\n",
        "Vloss=loss\n",
        "V3acc=accuracy"
      ],
      "execution_count": null,
      "outputs": [
        {
          "output_type": "stream",
          "text": [
            "Training Accuracy:  0.9884393215179443\n",
            "Training loss:  0.02271762490272522\n",
            "Testing Accuracy:  0.7731092572212219\n",
            "Testing loss:  1.0372073650360107\n"
          ],
          "name": "stdout"
        },
        {
          "output_type": "display_data",
          "data": {
            "image/png": "[encoded data removed]",
            "text/plain": [
              "<Figure size 864x360 with 2 Axes>"
            ]
          },
          "metadata": {
            "tags": []
          }
        }
      ]
    },
    {
      "cell_type": "markdown",
      "metadata": {
        "id": "U-h-9OLsiFc9",
        "colab_type": "text"
      },
      "source": [
        "# Deep Learning: LSTM"
      ]
    },
    {
      "cell_type": "code",
      "metadata": {
        "id": "0OD_ocWpiJHO",
        "colab_type": "code",
        "colab": {
          "base_uri": "https://localhost:8080/",
          "height": 423
        },
        "outputId": "11b9103c-b195-40fb-c3a6-2ced1d7fecc6"
      },
      "source": [
        "\n",
        "embedding_dim = 64\n",
        "\n",
        "model = Sequential()\n",
        "model.add(layers.Embedding(vocab_size, embedding_dim, input_length=maxlen))\n",
        "\n",
        "model.add(SpatialDropout1D(0.2))\n",
        "model.add(LSTM(64, dropout=0.2, recurrent_dropout=0.2,return_sequences=True))\n",
        "model.add(LSTM(32,return_sequences=True))\n",
        "model.add(LSTM(16))\n",
        "model.add(Dense(16, activation='relu'))\n",
        "\n",
        "model.add(Dense(1, activation='sigmoid'))\n",
        "model.compile(optimizer='adam',\n",
        "              loss='binary_crossentropy',\n",
        "              metrics=['accuracy'])\n",
        "model.summary()"
      ],
      "execution_count": null,
      "outputs": [
        {
          "output_type": "stream",
          "text": [
            "WARNING:tensorflow:Layer lstm_3 will not use cuDNN kernel since it doesn't meet the cuDNN kernel criteria. It will use generic GPU kernel as fallback when running on GPU\n",
            "Model: \"sequential_4\"\n",
            "_________________________________________________________________\n",
            "Layer (type)                 Output Shape              Param #   \n",
            "=================================================================\n",
            "embedding_3 (Embedding)      (None, 100, 64)           1416192   \n",
            "_________________________________________________________________\n",
            "spatial_dropout1d_1 (Spatial (None, 100, 64)           0         \n",
            "_________________________________________________________________\n",
            "lstm_3 (LSTM)                (None, 100, 64)           33024     \n",
            "_________________________________________________________________\n",
            "lstm_4 (LSTM)                (None, 100, 32)           12416     \n",
            "_________________________________________________________________\n",
            "lstm_5 (LSTM)                (None, 16)                3136      \n",
            "_________________________________________________________________\n",
            "dense_8 (Dense)              (None, 16)                272       \n",
            "_________________________________________________________________\n",
            "dense_9 (Dense)              (None, 1)                 17        \n",
            "=================================================================\n",
            "Total params: 1,465,057\n",
            "Trainable params: 1,465,057\n",
            "Non-trainable params: 0\n",
            "_________________________________________________________________\n"
          ],
          "name": "stdout"
        }
      ]
    },
    {
      "cell_type": "code",
      "metadata": {
        "id": "w70z3RGNiqVj",
        "colab_type": "code",
        "colab": {
          "base_uri": "https://localhost:8080/",
          "height": 1000
        },
        "outputId": "5dc80f7a-157b-4094-fe5d-c5c6ca957633"
      },
      "source": [
        "history = model.fit(X_train3, y_train,\n",
        "                    epochs=50,\n",
        "                    verbose=1,\n",
        "                    validation_data=(X_test3, y_test),\n",
        "                    batch_size=128)\n",
        "loss, accuracy = model.evaluate(X_train3, y_train, verbose=False)\n",
        "print(\"Training Accuracy: \",(accuracy))\n",
        "print(\"Training loss: \",(loss))\n",
        "T4loss=loss\n",
        "T4acc=accuracy\n",
        "loss, accuracy = model.evaluate(X_test3, y_test, verbose=False)\n",
        "print(\"Testing Accuracy: \",(accuracy))\n",
        "print(\"Testing loss: \",(loss))\n",
        "V4loss=loss\n",
        "V4acc=accuracy\n",
        "plot_history(history)"
      ],
      "execution_count": null,
      "outputs": [
        {
          "output_type": "stream",
          "text": [
            "Epoch 1/50\n",
            "45/45 [==============================] - 21s 476ms/step - loss: 0.6849 - accuracy: 0.5679 - val_loss: 0.6838 - val_accuracy: 0.5783\n",
            "Epoch 2/50\n",
            "45/45 [==============================] - 21s 464ms/step - loss: 0.6845 - accuracy: 0.5677 - val_loss: 0.6830 - val_accuracy: 0.5783\n",
            "Epoch 3/50\n",
            "45/45 [==============================] - 20s 453ms/step - loss: 0.6844 - accuracy: 0.5677 - val_loss: 0.6815 - val_accuracy: 0.5783\n",
            "Epoch 4/50\n",
            "45/45 [==============================] - 20s 453ms/step - loss: 0.6846 - accuracy: 0.5677 - val_loss: 0.6818 - val_accuracy: 0.5783\n",
            "Epoch 5/50\n",
            "45/45 [==============================] - 20s 450ms/step - loss: 0.6843 - accuracy: 0.5677 - val_loss: 0.6810 - val_accuracy: 0.5783\n",
            "Epoch 6/50\n",
            "45/45 [==============================] - 20s 447ms/step - loss: 0.6842 - accuracy: 0.5677 - val_loss: 0.6809 - val_accuracy: 0.5783\n",
            "Epoch 7/50\n",
            "45/45 [==============================] - 20s 447ms/step - loss: 0.6841 - accuracy: 0.5677 - val_loss: 0.6815 - val_accuracy: 0.5783\n",
            "Epoch 8/50\n",
            "45/45 [==============================] - 20s 447ms/step - loss: 0.6843 - accuracy: 0.5677 - val_loss: 0.6811 - val_accuracy: 0.5783\n",
            "Epoch 9/50\n",
            "45/45 [==============================] - 20s 446ms/step - loss: 0.6842 - accuracy: 0.5677 - val_loss: 0.6814 - val_accuracy: 0.5783\n",
            "Epoch 10/50\n",
            "45/45 [==============================] - 20s 448ms/step - loss: 0.6841 - accuracy: 0.5677 - val_loss: 0.6809 - val_accuracy: 0.5783\n",
            "Epoch 11/50\n",
            "45/45 [==============================] - 20s 449ms/step - loss: 0.6841 - accuracy: 0.5677 - val_loss: 0.6821 - val_accuracy: 0.5783\n",
            "Epoch 12/50\n",
            "45/45 [==============================] - 20s 447ms/step - loss: 0.6845 - accuracy: 0.5677 - val_loss: 0.6813 - val_accuracy: 0.5783\n",
            "Epoch 13/50\n",
            "45/45 [==============================] - 20s 449ms/step - loss: 0.6842 - accuracy: 0.5677 - val_loss: 0.6809 - val_accuracy: 0.5783\n",
            "Epoch 14/50\n",
            "45/45 [==============================] - 20s 446ms/step - loss: 0.6842 - accuracy: 0.5677 - val_loss: 0.6809 - val_accuracy: 0.5783\n",
            "Epoch 15/50\n",
            "45/45 [==============================] - 20s 446ms/step - loss: 0.6842 - accuracy: 0.5677 - val_loss: 0.6810 - val_accuracy: 0.5783\n",
            "Epoch 16/50\n",
            "45/45 [==============================] - 20s 444ms/step - loss: 0.6842 - accuracy: 0.5677 - val_loss: 0.6817 - val_accuracy: 0.5783\n",
            "Epoch 17/50\n",
            "45/45 [==============================] - 20s 455ms/step - loss: 0.6843 - accuracy: 0.5677 - val_loss: 0.6809 - val_accuracy: 0.5783\n",
            "Epoch 18/50\n",
            "45/45 [==============================] - 20s 445ms/step - loss: 0.6840 - accuracy: 0.5677 - val_loss: 0.6812 - val_accuracy: 0.5783\n",
            "Epoch 19/50\n",
            "45/45 [==============================] - 20s 447ms/step - loss: 0.6842 - accuracy: 0.5677 - val_loss: 0.6814 - val_accuracy: 0.5783\n",
            "Epoch 20/50\n",
            "45/45 [==============================] - 20s 447ms/step - loss: 0.6841 - accuracy: 0.5677 - val_loss: 0.6811 - val_accuracy: 0.5783\n",
            "Epoch 21/50\n",
            "45/45 [==============================] - 20s 449ms/step - loss: 0.6840 - accuracy: 0.5677 - val_loss: 0.6816 - val_accuracy: 0.5783\n",
            "Epoch 22/50\n",
            "45/45 [==============================] - 20s 453ms/step - loss: 0.6841 - accuracy: 0.5677 - val_loss: 0.6811 - val_accuracy: 0.5783\n",
            "Epoch 23/50\n",
            "45/45 [==============================] - 20s 451ms/step - loss: 0.6843 - accuracy: 0.5677 - val_loss: 0.6819 - val_accuracy: 0.5783\n",
            "Epoch 24/50\n",
            "45/45 [==============================] - 20s 447ms/step - loss: 0.6842 - accuracy: 0.5677 - val_loss: 0.6812 - val_accuracy: 0.5783\n",
            "Epoch 25/50\n",
            "45/45 [==============================] - 20s 448ms/step - loss: 0.6841 - accuracy: 0.5677 - val_loss: 0.6811 - val_accuracy: 0.5783\n",
            "Epoch 26/50\n",
            "45/45 [==============================] - 20s 449ms/step - loss: 0.6841 - accuracy: 0.5677 - val_loss: 0.6812 - val_accuracy: 0.5783\n",
            "Epoch 27/50\n",
            "45/45 [==============================] - 20s 448ms/step - loss: 0.6841 - accuracy: 0.5677 - val_loss: 0.6813 - val_accuracy: 0.5783\n",
            "Epoch 28/50\n",
            "45/45 [==============================] - 20s 454ms/step - loss: 0.6841 - accuracy: 0.5677 - val_loss: 0.6810 - val_accuracy: 0.5783\n",
            "Epoch 29/50\n",
            "45/45 [==============================] - 20s 446ms/step - loss: 0.6842 - accuracy: 0.5677 - val_loss: 0.6810 - val_accuracy: 0.5783\n",
            "Epoch 30/50\n",
            "45/45 [==============================] - 20s 448ms/step - loss: 0.6840 - accuracy: 0.5677 - val_loss: 0.6813 - val_accuracy: 0.5783\n",
            "Epoch 31/50\n",
            "45/45 [==============================] - 20s 448ms/step - loss: 0.6840 - accuracy: 0.5677 - val_loss: 0.6811 - val_accuracy: 0.5783\n",
            "Epoch 32/50\n",
            "45/45 [==============================] - 21s 458ms/step - loss: 0.6841 - accuracy: 0.5677 - val_loss: 0.6814 - val_accuracy: 0.5783\n",
            "Epoch 33/50\n",
            "45/45 [==============================] - 20s 448ms/step - loss: 0.6842 - accuracy: 0.5677 - val_loss: 0.6815 - val_accuracy: 0.5783\n",
            "Epoch 34/50\n",
            "45/45 [==============================] - 20s 445ms/step - loss: 0.6841 - accuracy: 0.5677 - val_loss: 0.6811 - val_accuracy: 0.5783\n",
            "Epoch 35/50\n",
            "45/45 [==============================] - 20s 444ms/step - loss: 0.6841 - accuracy: 0.5677 - val_loss: 0.6813 - val_accuracy: 0.5783\n",
            "Epoch 36/50\n",
            "45/45 [==============================] - 20s 446ms/step - loss: 0.6841 - accuracy: 0.5677 - val_loss: 0.6811 - val_accuracy: 0.5783\n",
            "Epoch 37/50\n",
            "45/45 [==============================] - 20s 445ms/step - loss: 0.6841 - accuracy: 0.5677 - val_loss: 0.6811 - val_accuracy: 0.5783\n",
            "Epoch 38/50\n",
            "45/45 [==============================] - 20s 444ms/step - loss: 0.6842 - accuracy: 0.5677 - val_loss: 0.6810 - val_accuracy: 0.5783\n",
            "Epoch 39/50\n",
            "45/45 [==============================] - 20s 445ms/step - loss: 0.6843 - accuracy: 0.5677 - val_loss: 0.6810 - val_accuracy: 0.5783\n",
            "Epoch 40/50\n",
            "45/45 [==============================] - 20s 445ms/step - loss: 0.6841 - accuracy: 0.5677 - val_loss: 0.6812 - val_accuracy: 0.5783\n",
            "Epoch 41/50\n",
            "45/45 [==============================] - 20s 445ms/step - loss: 0.6842 - accuracy: 0.5677 - val_loss: 0.6809 - val_accuracy: 0.5783\n",
            "Epoch 42/50\n",
            "45/45 [==============================] - 20s 445ms/step - loss: 0.6842 - accuracy: 0.5677 - val_loss: 0.6813 - val_accuracy: 0.5783\n",
            "Epoch 43/50\n",
            "45/45 [==============================] - 20s 447ms/step - loss: 0.6842 - accuracy: 0.5677 - val_loss: 0.6810 - val_accuracy: 0.5783\n",
            "Epoch 44/50\n",
            "45/45 [==============================] - 20s 443ms/step - loss: 0.6841 - accuracy: 0.5677 - val_loss: 0.6811 - val_accuracy: 0.5783\n",
            "Epoch 45/50\n",
            "45/45 [==============================] - 20s 443ms/step - loss: 0.6841 - accuracy: 0.5677 - val_loss: 0.6813 - val_accuracy: 0.5783\n",
            "Epoch 46/50\n",
            "45/45 [==============================] - 20s 443ms/step - loss: 0.6841 - accuracy: 0.5677 - val_loss: 0.6812 - val_accuracy: 0.5783\n",
            "Epoch 47/50\n",
            "45/45 [==============================] - 20s 451ms/step - loss: 0.6843 - accuracy: 0.5677 - val_loss: 0.6813 - val_accuracy: 0.5783\n",
            "Epoch 48/50\n",
            "45/45 [==============================] - 20s 445ms/step - loss: 0.6840 - accuracy: 0.5677 - val_loss: 0.6810 - val_accuracy: 0.5783\n",
            "Epoch 49/50\n",
            "45/45 [==============================] - 20s 443ms/step - loss: 0.6840 - accuracy: 0.5677 - val_loss: 0.6811 - val_accuracy: 0.5783\n",
            "Epoch 50/50\n",
            "45/45 [==============================] - 20s 444ms/step - loss: 0.6840 - accuracy: 0.5677 - val_loss: 0.6812 - val_accuracy: 0.5783\n",
            "Training Accuracy:  0.5677001476287842\n",
            "Training loss:  0.6839661598205566\n",
            "Testing Accuracy:  0.5782563090324402\n",
            "Testing loss:  0.6812046766281128\n"
          ],
          "name": "stdout"
        },
        {
          "output_type": "display_data",
          "data": {
            "image/png": "[encoded data removed]",
            "text/plain": [
              "<Figure size 864x360 with 2 Axes>"
            ]
          },
          "metadata": {
            "tags": []
          }
        }
      ]
    },
    {
      "cell_type": "markdown",
      "metadata": {
        "id": "xKconJ41G1o-",
        "colab_type": "text"
      },
      "source": [
        "# Deep learning: LSTM + GLOVE EMBEDDING\n"
      ]
    },
    {
      "cell_type": "markdown",
      "metadata": {
        "id": "DE_2Kl01HEgS",
        "colab_type": "text"
      },
      "source": [
        "Here GloVe pretrained model is used to help with word embedding"
      ]
    },
    {
      "cell_type": "code",
      "metadata": {
        "id": "9Laop9n9GGmu",
        "colab_type": "code",
        "colab": {
          "base_uri": "https://localhost:8080/",
          "height": 437
        },
        "outputId": "bb0a7e12-093a-4c31-cd92-519c4d99dfaf"
      },
      "source": [
        "!wget http://nlp.stanford.edu/data/wordvecs/glove.6B.zip\n",
        "!unzip glove.6B.zip"
      ],
      "execution_count": null,
      "outputs": [
        {
          "output_type": "stream",
          "text": [
            "--2020-08-12 23:59:08--  http://nlp.stanford.edu/data/wordvecs/glove.6B.zip\n",
            "Resolving nlp.stanford.edu (nlp.stanford.edu)... 171.64.67.140\n",
            "Connecting to nlp.stanford.edu (nlp.stanford.edu)|171.64.67.140|:80... connected.\n",
            "HTTP request sent, awaiting response... 302 Found\n",
            "Location: https://nlp.stanford.edu/data/wordvecs/glove.6B.zip [following]\n",
            "--2020-08-12 23:59:08--  https://nlp.stanford.edu/data/wordvecs/glove.6B.zip\n",
            "Connecting to nlp.stanford.edu (nlp.stanford.edu)|171.64.67.140|:443... connected.\n",
            "HTTP request sent, awaiting response... 301 Moved Permanently\n",
            "Location: http://downloads.cs.stanford.edu/nlp/data/wordvecs/glove.6B.zip [following]\n",
            "--2020-08-12 23:59:08--  http://downloads.cs.stanford.edu/nlp/data/wordvecs/glove.6B.zip\n",
            "Resolving downloads.cs.stanford.edu (downloads.cs.stanford.edu)... 171.64.64.22\n",
            "Connecting to downloads.cs.stanford.edu (downloads.cs.stanford.edu)|171.64.64.22|:80... connected.\n",
            "HTTP request sent, awaiting response... 200 OK\n",
            "Length: 862182753 (822M) [application/zip]\n",
            "Saving to: ‘glove.6B.zip’\n",
            "\n",
            "glove.6B.zip        100%[===================>] 822.24M  2.00MB/s    in 6m 28s  \n",
            "\n",
            "2020-08-13 00:05:37 (2.12 MB/s) - ‘glove.6B.zip’ saved [862182753/862182753]\n",
            "\n",
            "Archive:  glove.6B.zip\n",
            "  inflating: glove.6B.100d.txt       \n",
            "  inflating: glove.6B.200d.txt       \n",
            "  inflating: glove.6B.300d.txt       \n",
            "  inflating: glove.6B.50d.txt        \n"
          ],
          "name": "stdout"
        }
      ]
    },
    {
      "cell_type": "code",
      "metadata": {
        "id": "Ioo1Zml2GYdA",
        "colab_type": "code",
        "colab": {}
      },
      "source": [
        "def create_corpus(df):\n",
        "    corpus=[]\n",
        "    for tweet in df['text']:\n",
        "        words=[word.lower() for word in word_tokenize(tweet) if((word.isalpha()==1) & (word not in stop))]\n",
        "        corpus.append(words)\n",
        "    return corpus\n",
        "\n",
        "corpus=create_corpus(train_df)\n",
        "embedding_dict={}\n",
        "with open('glove.6B.50d.txt','r') as f:\n",
        "    for line in f:\n",
        "        values=line.split()\n",
        "        word=values[0]\n",
        "        vectors=np.asarray(values[1:],'float32')\n",
        "        embedding_dict[word]=vectors\n",
        "f.close()\n",
        "\n",
        "MAX_LEN=50\n",
        "tokenizer_obj=Tokenizer()\n",
        "tokenizer_obj.fit_on_texts(corpus)\n",
        "sequences=tokenizer_obj.texts_to_sequences(corpus)\n",
        "\n",
        "tweet_pad=pad_sequences(sequences,maxlen=MAX_LEN,truncating='post',padding='post')\n",
        "word_index=tokenizer_obj.word_index\n",
        "vocab_size=len(word_index)+1\n",
        "embedding_matrix=np.zeros((vocab_size,50))\n",
        "\n",
        "for word,i in word_index.items():\n",
        "    if i > vocab_size:\n",
        "        continue\n",
        "    \n",
        "    emb_vec=embedding_dict.get(word)\n",
        "    if emb_vec is not None:\n",
        "        embedding_matrix[i]=emb_vec\n",
        "X_train,X_val, y_train, y_val = train_test_split(tweet_pad,y, test_size=.2, random_state=2)\n",
        "\n",
        "embedding_dim = 100\n",
        "\n"
      ],
      "execution_count": null,
      "outputs": []
    },
    {
      "cell_type": "code",
      "metadata": {
        "id": "4xTEY0LEWrLF",
        "colab_type": "code",
        "colab": {
          "base_uri": "https://localhost:8080/",
          "height": 423
        },
        "outputId": "2b63a0df-33e5-48aa-fe99-a0ecc559bbdd"
      },
      "source": [
        "model = Sequential()\n",
        "model.add(layers.Embedding(vocab_size,50, embeddings_initializer=Constant(embedding_matrix),\n",
        "                   input_length=MAX_LEN,trainable=False))\n",
        "model.add(SpatialDropout1D(0.2))\n",
        "model.add(LSTM(64, dropout=0.2, recurrent_dropout=0.2,return_sequences=True))\n",
        "model.add(LSTM(32,return_sequences=True))\n",
        "model.add(LSTM(16))\n",
        "model.add(Dense(16, activation='relu'))\n",
        "\n",
        "model.add(Dense(1, activation='sigmoid'))\n",
        "optimizer=Adam(learning_rate=10e-4)\n",
        "model.compile(optimizer=optimizer,\n",
        "              loss='binary_crossentropy',\n",
        "              metrics=['accuracy'])\n",
        "model.summary()\n"
      ],
      "execution_count": null,
      "outputs": [
        {
          "output_type": "stream",
          "text": [
            "WARNING:tensorflow:Layer lstm_18 will not use cuDNN kernel since it doesn't meet the cuDNN kernel criteria. It will use generic GPU kernel as fallback when running on GPU\n",
            "Model: \"sequential_9\"\n",
            "_________________________________________________________________\n",
            "Layer (type)                 Output Shape              Param #   \n",
            "=================================================================\n",
            "embedding_8 (Embedding)      (None, 50, 50)            1098850   \n",
            "_________________________________________________________________\n",
            "spatial_dropout1d_6 (Spatial (None, 50, 50)            0         \n",
            "_________________________________________________________________\n",
            "lstm_18 (LSTM)               (None, 50, 64)            29440     \n",
            "_________________________________________________________________\n",
            "lstm_19 (LSTM)               (None, 50, 32)            12416     \n",
            "_________________________________________________________________\n",
            "lstm_20 (LSTM)               (None, 16)                3136      \n",
            "_________________________________________________________________\n",
            "dense_18 (Dense)             (None, 16)                272       \n",
            "_________________________________________________________________\n",
            "dense_19 (Dense)             (None, 1)                 17        \n",
            "=================================================================\n",
            "Total params: 1,144,131\n",
            "Trainable params: 45,281\n",
            "Non-trainable params: 1,098,850\n",
            "_________________________________________________________________\n"
          ],
          "name": "stdout"
        }
      ]
    },
    {
      "cell_type": "code",
      "metadata": {
        "id": "YjBGV5sxWeTJ",
        "colab_type": "code",
        "colab": {
          "base_uri": "https://localhost:8080/",
          "height": 1000
        },
        "outputId": "d5dc907f-cdbe-4a8e-bb43-f3b6e27a5785"
      },
      "source": [
        "history = model.fit(X_train, y_train,\n",
        "                    epochs=100,\n",
        "                    verbose=1,\n",
        "                    validation_data=(X_val, y_val),\n",
        "                    batch_size=128)\n",
        "loss, accuracy = model.evaluate(X_train, y_train, verbose=False)\n",
        "print(\"Training Accuracy: \",(accuracy))\n",
        "print(\"Training loss: \",(loss))\n",
        "T6loss=loss\n",
        "T6acc=accuracy\n",
        "loss, accuracy = model.evaluate(X_val, y_val, verbose=False)\n",
        "print(\"Testing Accuracy: \",(accuracy))\n",
        "print(\"Testing loss: \",(loss))\n",
        "V6loss=loss\n",
        "V6acc=accuracy\n",
        "plot_history(history)"
      ],
      "execution_count": null,
      "outputs": [
        {
          "output_type": "stream",
          "text": [
            "Epoch 1/100\n",
            "48/48 [==============================] - 11s 228ms/step - loss: 0.4386 - accuracy: 0.8097 - val_loss: 0.4230 - val_accuracy: 0.8188\n",
            "Epoch 2/100\n",
            "48/48 [==============================] - 11s 223ms/step - loss: 0.4286 - accuracy: 0.8082 - val_loss: 0.4283 - val_accuracy: 0.8247\n",
            "Epoch 3/100\n",
            "48/48 [==============================] - 11s 224ms/step - loss: 0.4305 - accuracy: 0.8087 - val_loss: 0.4159 - val_accuracy: 0.8168\n",
            "Epoch 4/100\n",
            "48/48 [==============================] - 11s 221ms/step - loss: 0.4212 - accuracy: 0.8135 - val_loss: 0.4309 - val_accuracy: 0.8188\n",
            "Epoch 5/100\n",
            "48/48 [==============================] - 11s 221ms/step - loss: 0.4177 - accuracy: 0.8153 - val_loss: 0.4198 - val_accuracy: 0.8181\n",
            "Epoch 6/100\n",
            "48/48 [==============================] - 11s 220ms/step - loss: 0.4215 - accuracy: 0.8120 - val_loss: 0.4251 - val_accuracy: 0.8207\n",
            "Epoch 7/100\n",
            "48/48 [==============================] - 11s 221ms/step - loss: 0.4149 - accuracy: 0.8138 - val_loss: 0.4191 - val_accuracy: 0.8207\n",
            "Epoch 8/100\n",
            "48/48 [==============================] - 11s 221ms/step - loss: 0.4067 - accuracy: 0.8167 - val_loss: 0.4333 - val_accuracy: 0.8162\n",
            "Epoch 9/100\n",
            "48/48 [==============================] - 11s 221ms/step - loss: 0.4029 - accuracy: 0.8218 - val_loss: 0.4160 - val_accuracy: 0.8221\n",
            "Epoch 10/100\n",
            "48/48 [==============================] - 11s 220ms/step - loss: 0.4012 - accuracy: 0.8230 - val_loss: 0.4245 - val_accuracy: 0.8089\n",
            "Epoch 11/100\n",
            "48/48 [==============================] - 11s 221ms/step - loss: 0.4055 - accuracy: 0.8210 - val_loss: 0.4107 - val_accuracy: 0.8221\n",
            "Epoch 12/100\n",
            "48/48 [==============================] - 11s 222ms/step - loss: 0.3974 - accuracy: 0.8256 - val_loss: 0.4100 - val_accuracy: 0.8221\n",
            "Epoch 13/100\n",
            "48/48 [==============================] - 11s 221ms/step - loss: 0.3994 - accuracy: 0.8227 - val_loss: 0.4101 - val_accuracy: 0.8240\n",
            "Epoch 14/100\n",
            "48/48 [==============================] - 11s 224ms/step - loss: 0.3883 - accuracy: 0.8291 - val_loss: 0.4205 - val_accuracy: 0.8207\n",
            "Epoch 15/100\n",
            "48/48 [==============================] - 11s 220ms/step - loss: 0.3919 - accuracy: 0.8312 - val_loss: 0.4217 - val_accuracy: 0.8188\n",
            "Epoch 16/100\n",
            "48/48 [==============================] - 11s 221ms/step - loss: 0.3893 - accuracy: 0.8256 - val_loss: 0.4286 - val_accuracy: 0.8188\n",
            "Epoch 17/100\n",
            "48/48 [==============================] - 10s 218ms/step - loss: 0.3864 - accuracy: 0.8315 - val_loss: 0.4260 - val_accuracy: 0.8201\n",
            "Epoch 18/100\n",
            "48/48 [==============================] - 10s 216ms/step - loss: 0.3895 - accuracy: 0.8305 - val_loss: 0.4271 - val_accuracy: 0.8181\n",
            "Epoch 19/100\n",
            "48/48 [==============================] - 10s 217ms/step - loss: 0.3735 - accuracy: 0.8425 - val_loss: 0.4281 - val_accuracy: 0.8181\n",
            "Epoch 20/100\n",
            "48/48 [==============================] - 10s 216ms/step - loss: 0.3781 - accuracy: 0.8374 - val_loss: 0.4217 - val_accuracy: 0.8214\n",
            "Epoch 21/100\n",
            "48/48 [==============================] - 10s 217ms/step - loss: 0.3717 - accuracy: 0.8392 - val_loss: 0.4513 - val_accuracy: 0.8142\n",
            "Epoch 22/100\n",
            "48/48 [==============================] - 10s 219ms/step - loss: 0.3814 - accuracy: 0.8365 - val_loss: 0.4207 - val_accuracy: 0.8155\n",
            "Epoch 23/100\n",
            "48/48 [==============================] - 10s 219ms/step - loss: 0.3718 - accuracy: 0.8406 - val_loss: 0.4346 - val_accuracy: 0.8148\n",
            "Epoch 24/100\n",
            "48/48 [==============================] - 10s 216ms/step - loss: 0.3707 - accuracy: 0.8415 - val_loss: 0.4166 - val_accuracy: 0.8175\n",
            "Epoch 25/100\n",
            "48/48 [==============================] - 10s 217ms/step - loss: 0.3701 - accuracy: 0.8406 - val_loss: 0.4362 - val_accuracy: 0.8122\n",
            "Epoch 26/100\n",
            "48/48 [==============================] - 10s 216ms/step - loss: 0.3591 - accuracy: 0.8478 - val_loss: 0.4489 - val_accuracy: 0.7997\n",
            "Epoch 27/100\n",
            "48/48 [==============================] - 10s 215ms/step - loss: 0.3629 - accuracy: 0.8420 - val_loss: 0.4503 - val_accuracy: 0.8168\n",
            "Epoch 28/100\n",
            "48/48 [==============================] - 10s 217ms/step - loss: 0.3540 - accuracy: 0.8450 - val_loss: 0.4451 - val_accuracy: 0.8168\n",
            "Epoch 29/100\n",
            "48/48 [==============================] - 11s 228ms/step - loss: 0.3553 - accuracy: 0.8498 - val_loss: 0.4441 - val_accuracy: 0.8056\n",
            "Epoch 30/100\n",
            "48/48 [==============================] - 11s 224ms/step - loss: 0.3660 - accuracy: 0.8427 - val_loss: 0.4478 - val_accuracy: 0.8148\n",
            "Epoch 31/100\n",
            "48/48 [==============================] - 10s 217ms/step - loss: 0.3478 - accuracy: 0.8535 - val_loss: 0.4328 - val_accuracy: 0.8109\n",
            "Epoch 32/100\n",
            "48/48 [==============================] - 10s 218ms/step - loss: 0.3556 - accuracy: 0.8479 - val_loss: 0.4345 - val_accuracy: 0.8168\n",
            "Epoch 33/100\n",
            "48/48 [==============================] - 11s 220ms/step - loss: 0.3462 - accuracy: 0.8552 - val_loss: 0.4372 - val_accuracy: 0.8168\n",
            "Epoch 34/100\n",
            "48/48 [==============================] - 10s 218ms/step - loss: 0.3425 - accuracy: 0.8585 - val_loss: 0.4366 - val_accuracy: 0.8096\n",
            "Epoch 35/100\n",
            "48/48 [==============================] - 10s 219ms/step - loss: 0.3455 - accuracy: 0.8552 - val_loss: 0.4414 - val_accuracy: 0.8096\n",
            "Epoch 36/100\n",
            "48/48 [==============================] - 10s 216ms/step - loss: 0.3468 - accuracy: 0.8498 - val_loss: 0.4676 - val_accuracy: 0.8076\n",
            "Epoch 37/100\n",
            "48/48 [==============================] - 10s 216ms/step - loss: 0.3462 - accuracy: 0.8535 - val_loss: 0.4498 - val_accuracy: 0.8142\n",
            "Epoch 38/100\n",
            "48/48 [==============================] - 10s 216ms/step - loss: 0.3356 - accuracy: 0.8580 - val_loss: 0.4496 - val_accuracy: 0.8148\n",
            "Epoch 39/100\n",
            "48/48 [==============================] - 10s 218ms/step - loss: 0.3378 - accuracy: 0.8565 - val_loss: 0.4539 - val_accuracy: 0.8089\n",
            "Epoch 40/100\n",
            "48/48 [==============================] - 10s 216ms/step - loss: 0.3329 - accuracy: 0.8594 - val_loss: 0.4546 - val_accuracy: 0.8155\n",
            "Epoch 41/100\n",
            "48/48 [==============================] - 10s 215ms/step - loss: 0.3275 - accuracy: 0.8609 - val_loss: 0.4484 - val_accuracy: 0.8096\n",
            "Epoch 42/100\n",
            "48/48 [==============================] - 10s 216ms/step - loss: 0.3369 - accuracy: 0.8557 - val_loss: 0.4527 - val_accuracy: 0.8181\n",
            "Epoch 43/100\n",
            "48/48 [==============================] - 11s 222ms/step - loss: 0.3202 - accuracy: 0.8645 - val_loss: 0.4634 - val_accuracy: 0.7971\n",
            "Epoch 44/100\n",
            "48/48 [==============================] - 10s 216ms/step - loss: 0.3279 - accuracy: 0.8622 - val_loss: 0.4604 - val_accuracy: 0.8030\n",
            "Epoch 45/100\n",
            "48/48 [==============================] - 10s 216ms/step - loss: 0.3157 - accuracy: 0.8688 - val_loss: 0.4896 - val_accuracy: 0.8063\n",
            "Epoch 46/100\n",
            "48/48 [==============================] - 10s 214ms/step - loss: 0.3248 - accuracy: 0.8617 - val_loss: 0.4688 - val_accuracy: 0.8050\n",
            "Epoch 47/100\n",
            "48/48 [==============================] - 10s 214ms/step - loss: 0.3163 - accuracy: 0.8649 - val_loss: 0.4762 - val_accuracy: 0.7912\n",
            "Epoch 48/100\n",
            "48/48 [==============================] - 10s 215ms/step - loss: 0.3129 - accuracy: 0.8696 - val_loss: 0.4900 - val_accuracy: 0.8011\n",
            "Epoch 49/100\n",
            "48/48 [==============================] - 10s 214ms/step - loss: 0.3168 - accuracy: 0.8696 - val_loss: 0.4727 - val_accuracy: 0.8043\n",
            "Epoch 50/100\n",
            "48/48 [==============================] - 10s 212ms/step - loss: 0.3078 - accuracy: 0.8719 - val_loss: 0.4819 - val_accuracy: 0.8102\n",
            "Epoch 51/100\n",
            "48/48 [==============================] - 10s 214ms/step - loss: 0.3107 - accuracy: 0.8670 - val_loss: 0.4739 - val_accuracy: 0.8037\n",
            "Epoch 52/100\n",
            "48/48 [==============================] - 10s 214ms/step - loss: 0.3045 - accuracy: 0.8744 - val_loss: 0.4942 - val_accuracy: 0.7971\n",
            "Epoch 53/100\n",
            "48/48 [==============================] - 10s 215ms/step - loss: 0.3074 - accuracy: 0.8729 - val_loss: 0.4656 - val_accuracy: 0.8050\n",
            "Epoch 54/100\n",
            "48/48 [==============================] - 10s 215ms/step - loss: 0.3069 - accuracy: 0.8685 - val_loss: 0.4757 - val_accuracy: 0.8056\n",
            "Epoch 55/100\n",
            "48/48 [==============================] - 10s 214ms/step - loss: 0.3017 - accuracy: 0.8752 - val_loss: 0.4736 - val_accuracy: 0.8116\n",
            "Epoch 56/100\n",
            "48/48 [==============================] - 10s 215ms/step - loss: 0.3039 - accuracy: 0.8757 - val_loss: 0.4867 - val_accuracy: 0.8063\n",
            "Epoch 57/100\n",
            "48/48 [==============================] - 10s 214ms/step - loss: 0.2982 - accuracy: 0.8731 - val_loss: 0.4849 - val_accuracy: 0.7965\n",
            "Epoch 58/100\n",
            "48/48 [==============================] - 10s 218ms/step - loss: 0.2906 - accuracy: 0.8828 - val_loss: 0.5164 - val_accuracy: 0.7984\n",
            "Epoch 59/100\n",
            "48/48 [==============================] - 11s 225ms/step - loss: 0.2999 - accuracy: 0.8744 - val_loss: 0.4816 - val_accuracy: 0.8109\n",
            "Epoch 60/100\n",
            "48/48 [==============================] - 10s 215ms/step - loss: 0.3020 - accuracy: 0.8759 - val_loss: 0.4554 - val_accuracy: 0.8011\n",
            "Epoch 61/100\n",
            "48/48 [==============================] - 10s 213ms/step - loss: 0.3010 - accuracy: 0.8713 - val_loss: 0.4768 - val_accuracy: 0.8043\n",
            "Epoch 62/100\n",
            "48/48 [==============================] - 10s 214ms/step - loss: 0.2904 - accuracy: 0.8819 - val_loss: 0.4879 - val_accuracy: 0.8030\n",
            "Epoch 63/100\n",
            "48/48 [==============================] - 10s 213ms/step - loss: 0.2937 - accuracy: 0.8791 - val_loss: 0.5141 - val_accuracy: 0.7997\n",
            "Epoch 64/100\n",
            "48/48 [==============================] - 10s 214ms/step - loss: 0.2924 - accuracy: 0.8810 - val_loss: 0.5146 - val_accuracy: 0.7984\n",
            "Epoch 65/100\n",
            "48/48 [==============================] - 10s 213ms/step - loss: 0.2972 - accuracy: 0.8785 - val_loss: 0.4870 - val_accuracy: 0.8017\n",
            "Epoch 66/100\n",
            "48/48 [==============================] - 10s 213ms/step - loss: 0.2851 - accuracy: 0.8811 - val_loss: 0.4774 - val_accuracy: 0.8043\n",
            "Epoch 67/100\n",
            "48/48 [==============================] - 10s 214ms/step - loss: 0.2812 - accuracy: 0.8836 - val_loss: 0.4850 - val_accuracy: 0.7997\n",
            "Epoch 68/100\n",
            "48/48 [==============================] - 10s 214ms/step - loss: 0.2786 - accuracy: 0.8826 - val_loss: 0.4855 - val_accuracy: 0.8030\n",
            "Epoch 69/100\n",
            "48/48 [==============================] - 10s 213ms/step - loss: 0.2823 - accuracy: 0.8813 - val_loss: 0.5045 - val_accuracy: 0.8030\n",
            "Epoch 70/100\n",
            "48/48 [==============================] - 10s 214ms/step - loss: 0.2860 - accuracy: 0.8780 - val_loss: 0.5001 - val_accuracy: 0.8043\n",
            "Epoch 71/100\n",
            "48/48 [==============================] - 10s 213ms/step - loss: 0.2772 - accuracy: 0.8847 - val_loss: 0.5159 - val_accuracy: 0.7945\n",
            "Epoch 72/100\n",
            "48/48 [==============================] - 10s 218ms/step - loss: 0.2798 - accuracy: 0.8846 - val_loss: 0.5021 - val_accuracy: 0.8096\n",
            "Epoch 73/100\n",
            "48/48 [==============================] - 10s 213ms/step - loss: 0.2871 - accuracy: 0.8852 - val_loss: 0.5309 - val_accuracy: 0.7846\n",
            "Epoch 74/100\n",
            "48/48 [==============================] - 10s 214ms/step - loss: 0.2782 - accuracy: 0.8841 - val_loss: 0.5155 - val_accuracy: 0.7932\n",
            "Epoch 75/100\n",
            "48/48 [==============================] - 10s 213ms/step - loss: 0.2787 - accuracy: 0.8875 - val_loss: 0.5116 - val_accuracy: 0.8050\n",
            "Epoch 76/100\n",
            "48/48 [==============================] - 10s 214ms/step - loss: 0.2726 - accuracy: 0.8882 - val_loss: 0.4909 - val_accuracy: 0.8030\n",
            "Epoch 77/100\n",
            "48/48 [==============================] - 10s 212ms/step - loss: 0.2751 - accuracy: 0.8837 - val_loss: 0.5239 - val_accuracy: 0.8024\n",
            "Epoch 78/100\n",
            "48/48 [==============================] - 10s 212ms/step - loss: 0.2639 - accuracy: 0.8908 - val_loss: 0.5283 - val_accuracy: 0.7958\n",
            "Epoch 79/100\n",
            "48/48 [==============================] - 10s 213ms/step - loss: 0.2630 - accuracy: 0.8936 - val_loss: 0.5486 - val_accuracy: 0.7978\n",
            "Epoch 80/100\n",
            "48/48 [==============================] - 10s 213ms/step - loss: 0.2782 - accuracy: 0.8849 - val_loss: 0.5143 - val_accuracy: 0.8011\n",
            "Epoch 81/100\n",
            "48/48 [==============================] - 10s 213ms/step - loss: 0.2636 - accuracy: 0.8888 - val_loss: 0.5267 - val_accuracy: 0.8030\n",
            "Epoch 82/100\n",
            "48/48 [==============================] - 10s 213ms/step - loss: 0.2632 - accuracy: 0.8938 - val_loss: 0.5483 - val_accuracy: 0.7938\n",
            "Epoch 83/100\n",
            "48/48 [==============================] - 10s 214ms/step - loss: 0.2664 - accuracy: 0.8901 - val_loss: 0.5389 - val_accuracy: 0.8070\n",
            "Epoch 84/100\n",
            "48/48 [==============================] - 10s 213ms/step - loss: 0.2719 - accuracy: 0.8842 - val_loss: 0.5241 - val_accuracy: 0.8024\n",
            "Epoch 85/100\n",
            "48/48 [==============================] - 10s 214ms/step - loss: 0.2544 - accuracy: 0.8957 - val_loss: 0.5513 - val_accuracy: 0.7951\n",
            "Epoch 86/100\n",
            "48/48 [==============================] - 10s 214ms/step - loss: 0.2598 - accuracy: 0.8939 - val_loss: 0.5376 - val_accuracy: 0.7932\n",
            "Epoch 87/100\n",
            "48/48 [==============================] - 10s 214ms/step - loss: 0.2556 - accuracy: 0.8923 - val_loss: 0.5430 - val_accuracy: 0.8076\n",
            "Epoch 88/100\n",
            "48/48 [==============================] - 11s 223ms/step - loss: 0.2591 - accuracy: 0.8923 - val_loss: 0.5385 - val_accuracy: 0.8063\n",
            "Epoch 89/100\n",
            "48/48 [==============================] - 10s 218ms/step - loss: 0.2578 - accuracy: 0.8974 - val_loss: 0.5206 - val_accuracy: 0.8017\n",
            "Epoch 90/100\n",
            "48/48 [==============================] - 10s 214ms/step - loss: 0.2574 - accuracy: 0.8954 - val_loss: 0.5359 - val_accuracy: 0.8017\n",
            "Epoch 91/100\n",
            "48/48 [==============================] - 10s 216ms/step - loss: 0.2527 - accuracy: 0.9007 - val_loss: 0.5654 - val_accuracy: 0.8024\n",
            "Epoch 92/100\n",
            "48/48 [==============================] - 10s 214ms/step - loss: 0.2453 - accuracy: 0.8993 - val_loss: 0.5549 - val_accuracy: 0.8030\n",
            "Epoch 93/100\n",
            "48/48 [==============================] - 10s 215ms/step - loss: 0.2547 - accuracy: 0.8975 - val_loss: 0.5648 - val_accuracy: 0.7925\n",
            "Epoch 94/100\n",
            "48/48 [==============================] - 10s 213ms/step - loss: 0.2486 - accuracy: 0.8961 - val_loss: 0.5323 - val_accuracy: 0.7932\n",
            "Epoch 95/100\n",
            "48/48 [==============================] - 10s 211ms/step - loss: 0.2538 - accuracy: 0.8970 - val_loss: 0.5365 - val_accuracy: 0.7991\n",
            "Epoch 96/100\n",
            "48/48 [==============================] - 10s 212ms/step - loss: 0.2483 - accuracy: 0.8993 - val_loss: 0.5307 - val_accuracy: 0.7958\n",
            "Epoch 97/100\n",
            "48/48 [==============================] - 10s 212ms/step - loss: 0.2471 - accuracy: 0.8961 - val_loss: 0.6067 - val_accuracy: 0.7833\n",
            "Epoch 98/100\n",
            "48/48 [==============================] - 10s 211ms/step - loss: 0.2386 - accuracy: 0.9011 - val_loss: 0.5494 - val_accuracy: 0.7905\n",
            "Epoch 99/100\n",
            "48/48 [==============================] - 10s 212ms/step - loss: 0.2398 - accuracy: 0.9016 - val_loss: 0.5549 - val_accuracy: 0.7919\n",
            "Epoch 100/100\n",
            "48/48 [==============================] - 10s 212ms/step - loss: 0.2358 - accuracy: 0.9099 - val_loss: 0.5801 - val_accuracy: 0.7912\n",
            "Training Accuracy:  0.9628899693489075\n",
            "Training loss:  0.11876389384269714\n",
            "Testing Accuracy:  0.7912015914916992\n",
            "Testing loss:  0.5801358222961426\n"
          ],
          "name": "stdout"
        },
        {
          "output_type": "display_data",
          "data": {
            "image/png": "[encoded data removed]",
            "text/plain": [
              "<Figure size 864x360 with 2 Axes>"
            ]
          },
          "metadata": {
            "tags": []
          }
        }
      ]
    },
    {
      "cell_type": "code",
      "metadata": {
        "id": "0psO73DmOjO8",
        "colab_type": "code",
        "colab": {}
      },
      "source": [
        "#code to check the submission for the LSTM + GLOVE model\n",
        "corpus2=create_corpus(test_df)\n",
        "sequences2=tokenizer_obj.texts_to_sequences(corpus2)\n",
        "tweet_pad2=pad_sequences(sequences2,maxlen=MAX_LEN,truncating='post',padding='post')\n",
        "sample_submission = pd.read_csv(\"/content/drive/My Drive/kaggle/sample_submission.csv\")\n",
        "sample_submission[\"target\"] = model.predict(tweet_pad2)\n",
        "sample_submission.head()\n",
        "sample_submission.to_csv(\"submission.csv\", index=False)\n"
      ],
      "execution_count": null,
      "outputs": []
    },
    {
      "cell_type": "markdown",
      "metadata": {
        "id": "TMB8LNoPo4gu",
        "colab_type": "text"
      },
      "source": [
        "# Results"
      ]
    },
    {
      "cell_type": "code",
      "metadata": {
        "id": "-e8OLH4vo_du",
        "colab_type": "code",
        "colab": {}
      },
      "source": [
        "\n",
        "# preparing the labels for the graphs\n",
        "label=['Ridge regression','logistic regression','Linear SVM']\n",
        "score=[RRscore,LRscore,LSVMscore]\n",
        "\n",
        "label2= ['Dense NN','Dense with word','CNN','LSTM','LSTM with glove']\n",
        "Score2=[V1acc,V2acc,V3acc,V4acc,V6acc]\n",
        "Score3=[V1loss,V2loss,Vloss,V4loss,V6loss]\n",
        "Score4=[T1acc,T2acc,T3acc,T4acc,T6acc]\n",
        "Score5=[T1loss,T2loss,T3loss,T4loss,T6loss]\n",
        "\n",
        "label3=['logistic regression','Linear SVM','LSTM with glove']\n",
        "score6=[0.79282,0.79650,0]"
      ],
      "execution_count": null,
      "outputs": []
    },
    {
      "cell_type": "code",
      "metadata": {
        "id": "ShiUVBtpm-Am",
        "colab_type": "code",
        "colab": {
          "base_uri": "https://localhost:8080/",
          "height": 282
        },
        "outputId": "33d046da-138c-4b5a-dc0d-fe8195915eb5"
      },
      "source": [
        "#making the graphs for the machine learning models\n",
        "label=['Ridge regression','logistic regression','Linear SVM']\n",
        "score=[RRscore,LRscore,LSVMscore]\n",
        "score2=[RRscore2,LRscore2,LSVMscore2]\n",
        "\n",
        "fig, ax = plt.subplots()\n",
        "x = np.arange(len(label))  # the label locations\n",
        "width = 0.35  # the width of the bars\n",
        "\n",
        "rects1 = ax.bar(x - width/2, score, width, label='count vectorizors')\n",
        "rects2 = ax.bar(x + width/2, score2, width, label='tfidf vectorizors')\n",
        "\n",
        "ax.set_ylabel('Accuracy')\n",
        "ax.set_title('Accuracy on the validation Data Sets for the machine learning models')\n",
        "ax.set_xticks(x)\n",
        "ax.set_xticklabels(label)\n",
        "ax.legend()\n",
        "\n",
        "plt.show()"
      ],
      "execution_count": null,
      "outputs": [
        {
          "output_type": "display_data",
          "data": {
            "image/png": "[encoded data removed]",
            "text/plain": [
              "<Figure size 432x288 with 1 Axes>"
            ]
          },
          "metadata": {
            "tags": []
          }
        }
      ]
    },
    {
      "cell_type": "code",
      "metadata": {
        "id": "abrtHke5uPLD",
        "colab_type": "code",
        "colab": {
          "base_uri": "https://localhost:8080/",
          "height": 282
        },
        "outputId": "de5cb323-e275-45b4-eb91-4d0bc2d2646f"
      },
      "source": [
        "#making the graph for the accuracy of the deep learning models\n",
        "fig, ax = plt.subplots()\n",
        "x = np.arange(len(label2))  # the label locations\n",
        "width = 0.35  # the width of the bars\n",
        "\n",
        "rects1 = ax.bar(x - width/2, Score4, width, label='training Accuracy ')\n",
        "rects2 = ax.bar(x + width/2, Score2, width, label='validation accuracy')\n",
        "\n",
        "ax.set_ylabel('Accuracy')\n",
        "ax.set_title('Accuracy for machine learning models')\n",
        "ax.set_xticks(x)\n",
        "ax.set_xticklabels(label2)\n",
        "ax.legend()\n",
        "\n",
        "plt.show()"
      ],
      "execution_count": null,
      "outputs": [
        {
          "output_type": "display_data",
          "data": {
            "image/png": "[encoded data removed]",
            "text/plain": [
              "<Figure size 432x288 with 1 Axes>"
            ]
          },
          "metadata": {
            "tags": []
          }
        }
      ]
    },
    {
      "cell_type": "code",
      "metadata": {
        "id": "vmATKNDCu0FU",
        "colab_type": "code",
        "colab": {
          "base_uri": "https://localhost:8080/",
          "height": 282
        },
        "outputId": "4aeebeae-ed66-4a3d-bf34-1aa6b74afac3"
      },
      "source": [
        "#making the graph for the accuracy of the deep learning models\n",
        "fig, ax = plt.subplots()\n",
        "x = np.arange(len(label2))  # the label locations\n",
        "width = 0.35  # the width of the bars\n",
        "\n",
        "rects1 = ax.bar(x - width/2, Score5, width, label='training Loss')\n",
        "rects2 = ax.bar(x + width/2, Score3, width, label='validation Loss')\n",
        "\n",
        "ax.set_ylabel('Loss')\n",
        "ax.set_title('Loss for machine learning models')\n",
        "ax.set_xticks(x)\n",
        "ax.set_xticklabels(label2)\n",
        "ax.legend()\n",
        "\n",
        "plt.show()"
      ],
      "execution_count": null,
      "outputs": [
        {
          "output_type": "display_data",
          "data": {
            "image/png": "[encoded data removed]",
            "text/plain": [
              "<Figure size 432x288 with 1 Axes>"
            ]
          },
          "metadata": {
            "tags": []
          }
        }
      ]
    },
    {
      "cell_type": "code",
      "metadata": {
        "id": "Hqt-MzBewl_S",
        "colab_type": "code",
        "colab": {
          "base_uri": "https://localhost:8080/",
          "height": 282
        },
        "outputId": "add1a97a-1d8d-4b38-9488-950fa9ce82a8"
      },
      "source": [
        "fig, ax = plt.subplots()\n",
        "x = np.arange(len(label3))  # the label locations\n",
        "width = 0.35  # the width of the bars\n",
        "\n",
        "rects1 = ax.bar(x , score6, width, label='Mean F score')\n",
        "\n",
        "\n",
        "ax.set_ylabel('Mean F-score')\n",
        "ax.set_title('Mean F-score for the various models')\n",
        "ax.set_xticks(x)\n",
        "ax.set_xticklabels(label3)\n",
        "ax.legend()\n",
        "\n",
        "plt.show()"
      ],
      "execution_count": null,
      "outputs": [
        {
          "output_type": "display_data",
          "data": {
            "image/png": "[encoded data removed]",
            "text/plain": [
              "<Figure size 432x288 with 1 Axes>"
            ]
          },
          "metadata": {
            "tags": []
          }
        }
      ]
    },
    {
      "cell_type": "markdown",
      "metadata": {
        "id": "w1yHwuiDo84n",
        "colab_type": "text"
      },
      "source": [
        "# Sources"
      ]
    },
    {
      "cell_type": "markdown",
      "metadata": {
        "id": "2DYyvK-AeFPy",
        "colab_type": "text"
      },
      "source": [
        "Sources:\n",
        "\n",
        "* https://www.kaggle.com/philculliton/nlp-getting-started-tutorial \n",
        "* https://keras.io/api/\n",
        "\n",
        "* https://scikit-learn.org/stable/modules/classes.html\n",
        "* https://medium.com/@dobko_m/\n",
        "nlp-text-data-cleaning-and-preprocessing-ea3ffe0406c1\n",
        "* https://github.com/stanfordnlp/GloVe\n",
        "* https://www.nltk.org/api/nltk.html\n",
        "* https://www.youtube.com/watch?v=j7EB7yeySDw\n",
        "* https://nlpforhackers.io/keras-intro/\n",
        "* https://realpython.com/python-keras-text-classification/#what-is-a-word-embedding\n",
        "* https://www.kaggle.com/darthmanav/glove-lstm-sentiment-analysis-for-beginners#Creating-Our-Model.\n",
        "\n",
        "\n",
        "\n",
        "\n",
        "\n"
      ]
    }
  ]
}
